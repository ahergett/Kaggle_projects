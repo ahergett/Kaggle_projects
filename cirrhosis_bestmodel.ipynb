{
 "cells": [
  {
   "cell_type": "code",
   "execution_count": 1,
   "metadata": {},
   "outputs": [],
   "source": [
    "import pandas as pd\n",
    "import numpy as np\n",
    "from sklearn.ensemble import RandomForestClassifier\n",
    "from sklearn.metrics import make_scorer\n",
    "from sklearn.model_selection import GridSearchCV\n",
    "import xgboost as xgb\n",
    "from sklearn.linear_model import LogisticRegression\n",
    "from sklearn.neural_network import MLPClassifier\n",
    "from sklearn.model_selection import cross_val_predict\n",
    "from sklearn.preprocessing import StandardScaler\n",
    "from sklearn.model_selection import RandomizedSearchCV\n",
    "from sklearn.svm import SVC\n",
    "import copy"
   ]
  },
  {
   "cell_type": "markdown",
   "metadata": {},
   "source": [
    "Evaluation function"
   ]
  },
  {
   "cell_type": "code",
   "execution_count": 2,
   "metadata": {},
   "outputs": [],
   "source": [
    "# Evaluation function defined in Kaggle\n",
    "def evaluation_function(validation, prediction):\n",
    "    # Replace values with thresholds\n",
    "    y_pred = np.clip(prediction, 1e-15, 1 - 1e-15)\n",
    "\n",
    "    # One-hot encode y_true\n",
    "    y_true_encoded = np.zeros_like(y_pred)\n",
    "    for idx, class_idx in enumerate(validation):\n",
    "        y_true_encoded[idx, class_idx] = 1\n",
    "\n",
    "    return -1/len(prediction) * sum([sum([y_true_encoded[i][j] * np.log(y_pred[i][j]) for j, v in enumerate(y_pred[i])]) for i, w in enumerate(y_pred)])\n",
    "\n",
    "# initialise scoring function for hyperparameter tuning\n",
    "custom_scorer = make_scorer(evaluation_function, greater_is_better=False, needs_proba=True)"
   ]
  },
  {
   "cell_type": "markdown",
   "metadata": {},
   "source": [
    "Preprocessesing"
   ]
  },
  {
   "cell_type": "code",
   "execution_count": 3,
   "metadata": {},
   "outputs": [],
   "source": [
    "# Label categorical data with integers\n",
    "def load_data(path):\n",
    "    data = pd.read_csv(path)\n",
    "    no_yes = {'N': 0, 'Y': 1}\n",
    "    labeling = {'Sex': {'F': 1, 'M': 0},\n",
    "                'Drug': {'Placebo': 0, 'D-penicillamine': 1},\n",
    "                'Ascites': no_yes,\n",
    "                'Hepatomegaly': no_yes,\n",
    "                'Spiders': no_yes,\n",
    "                'Edema': {'N': 0, 'Y': 1, 'S': 2},\n",
    "                'Status': {'C': 0, 'D': 1, 'CL': 2}\n",
    "                }\n",
    "    for column, mapping in labeling.items():\n",
    "        if column in data.columns:\n",
    "            data[column] = data[column].replace(mapping)\n",
    "\n",
    "    return data\n",
    "\n",
    "# Non-tree based models require different preprocessing (normalized scales + one-hot-encoded categorical data)\n",
    "class Preprocessor:\n",
    "\n",
    "    # For rescaling you need to fit the training set without test-set to avoid data leakage\n",
    "    def __init__(self, X_train):\n",
    "        self.continuous_features = [0, 2, 8, 9, 10, 11, 12, 13, 14, 15, 16]\n",
    "        self.scaler = StandardScaler()\n",
    "        self.scaler.fit(X_train[:, self.continuous_features])\n",
    "    \n",
    "    # function for categorical data encoding of Edema\n",
    "    def one_hot_encode(self, X):\n",
    "        nominal_feature = 7\n",
    "        zeros = np.zeros((len(X), 3))\n",
    "        for row, val in enumerate(X[:, nominal_feature]):\n",
    "            zeros[row][int(val)] = 1\n",
    "        X_one_hot = np.concatenate((X, zeros), axis=1)\n",
    "        X_one_hot = np.delete(X_one_hot, nominal_feature, 1)\n",
    "        return X_one_hot\n",
    "\n",
    "    def __call__(self, X):\n",
    "        X = copy.deepcopy(X)\n",
    "        # normalize data\n",
    "        X[:, self.continuous_features] = self.scaler.transform(X[:, self.continuous_features])\n",
    "\n",
    "        # one hot encode nominal features\n",
    "        return self.one_hot_encode(X)"
   ]
  },
  {
   "cell_type": "markdown",
   "metadata": {},
   "source": [
    "Load data"
   ]
  },
  {
   "cell_type": "code",
   "execution_count": 4,
   "metadata": {},
   "outputs": [],
   "source": [
    "# Load data\n",
    "train_data = load_data('./input_data/train.csv')\n",
    "test_data = load_data('./input_data/test.csv')\n",
    "\n",
    "X = train_data.drop(['Status', 'id'], axis=1).to_numpy()\n",
    "Y = train_data['Status'].to_numpy()\n",
    "X_val = np.array(test_data.drop('id', axis=1))\n",
    "\n",
    "# Split data for hyperparameter search and model evaluation\n",
    "testsize = 0.2\n",
    "split_index = int((1 - testsize) * len(X))\n",
    "X_train, X_test, Y_train, Y_test = X[:split_index], X[split_index:], Y[:split_index], Y[split_index:]"
   ]
  },
  {
   "cell_type": "markdown",
   "metadata": {},
   "source": [
    "Support vector machine"
   ]
  },
  {
   "cell_type": "code",
   "execution_count": 5,
   "metadata": {},
   "outputs": [
    {
     "name": "stdout",
     "output_type": "stream",
     "text": [
      "Best parameters: {'C': 10, 'gamma': 0.01, 'kernel': 'rbf'}\n",
      "Evaluation score: 0.507894500610638\n"
     ]
    }
   ],
   "source": [
    "svm = SVC(probability=True)\n",
    "\n",
    "param_grid = {\n",
    "    'C': [0.1, 1, 10],\n",
    "    'gamma': [1, 0.1, 0.01],\n",
    "    'kernel': ['rbf', 'linear', 'sigmoid']\n",
    "}\n",
    "\n",
    "preprocess = Preprocessor(X_train)\n",
    "grid_search = GridSearchCV(svm, param_grid, cv=5, n_jobs=-1, scoring=custom_scorer)\n",
    "grid_search.fit(preprocess(X_train), Y_train)\n",
    "prediction = grid_search.predict_proba(preprocess(X_test))\n",
    "\n",
    "svm_params = grid_search.best_params_\n",
    "\n",
    "print(f'Best parameters: {svm_params}')\n",
    "print(f'Evaluation score: {evaluation_function(Y_test, prediction)}')"
   ]
  },
  {
   "cell_type": "markdown",
   "metadata": {},
   "source": [
    "Random forest classifier - Hyperparameter grid search"
   ]
  },
  {
   "cell_type": "code",
   "execution_count": 6,
   "metadata": {},
   "outputs": [
    {
     "name": "stdout",
     "output_type": "stream",
     "text": [
      "Best parameters: {'max_depth': 15, 'min_samples_leaf': 2, 'min_samples_split': 3, 'n_estimators': 600}\n",
      "Evaluation score: 0.45484388659302855\n"
     ]
    }
   ],
   "source": [
    "model = RandomForestClassifier()\n",
    "param_grid = {'max_depth': [15],\n",
    "              'n_estimators': [600],\n",
    "              'min_samples_split': [3],\n",
    "              'min_samples_leaf': [2]\n",
    "              }\n",
    "\n",
    "# 5 fold cross validation\n",
    "grid_search = GridSearchCV(model, param_grid, cv=5, scoring=custom_scorer)\n",
    "grid_search.fit(X_train, Y_train)\n",
    "\n",
    "randomforest_params = grid_search.best_params_\n",
    "print(\"Best parameters:\", grid_search.best_params_)\n",
    "prediction = grid_search.predict_proba(X_test)\n",
    "print(f'Evaluation score: {evaluation_function(Y_test, prediction)}')"
   ]
  },
  {
   "cell_type": "markdown",
   "metadata": {},
   "source": [
    "Best parameters: {'max_depth': 20, 'min_samples_leaf': 2, 'min_samples_split': 2, 'n_estimators': 600}\n",
    "Evaluation score: 0.45364399366663466"
   ]
  },
  {
   "cell_type": "markdown",
   "metadata": {},
   "source": [
    "Try different init weights"
   ]
  },
  {
   "cell_type": "code",
   "execution_count": 7,
   "metadata": {},
   "outputs": [
    {
     "name": "stdout",
     "output_type": "stream",
     "text": [
      "0.45149522397632935\n"
     ]
    }
   ],
   "source": [
    "models = [RandomForestClassifier(**randomforest_params, random_state=_) for _ in range(100)]\n",
    "scores = []\n",
    "for model in models:\n",
    "    model.fit(X_train, Y_train)\n",
    "    prediction = model.predict_proba(X_test)\n",
    "    scores.append(evaluation_function(Y_test, prediction))\n",
    "best_model_ind = np.argmin(scores)\n",
    "print(scores[best_model_ind])\n",
    "randomforest_params['random_state'] = best_model_ind    \n",
    "\n",
    "# best_model_ind = 84   score = 0.4518"
   ]
  },
  {
   "cell_type": "markdown",
   "metadata": {},
   "source": [
    "Train model on whole dataset"
   ]
  },
  {
   "cell_type": "code",
   "execution_count": 8,
   "metadata": {},
   "outputs": [],
   "source": [
    "#randomforest_params['random_state'] = 84            # from cell before\n",
    "\n",
    "model = RandomForestClassifier(**randomforest_params)\n",
    "model.fit(X, Y)\n",
    "\n",
    "ids = test_data['id']\n",
    "prediction = model.predict_proba(X_val)\n",
    "\n",
    "submission = pd.DataFrame(data={'id': ids, 'Status_C': prediction[:, 0], 'Status_CL': prediction[:, 2], 'Status_D': prediction[:, 1]})\n",
    "submission.to_csv('./output_data/randomforest_submission.csv', index=False)"
   ]
  },
  {
   "cell_type": "markdown",
   "metadata": {},
   "source": [
    "Analysis"
   ]
  },
  {
   "cell_type": "code",
   "execution_count": 9,
   "metadata": {},
   "outputs": [
    {
     "data": {
      "image/png": "[encoded data removed]",
      "text/plain": [
       "<Figure size 640x480 with 1 Axes>"
      ]
     },
     "metadata": {},
     "output_type": "display_data"
    }
   ],
   "source": [
    "importances = model.feature_importances_\n",
    "sorting = np.argsort(importances)\n",
    "\n",
    "import matplotlib.pyplot as plt\n",
    "import seaborn as sns\n",
    "\n",
    "sns.barplot(x=importances[sorting], y=train_data.drop(['id', 'Status'], axis=1).keys()[sorting])\n",
    "plt.title('Feature Importances')\n",
    "plt.xlabel('Importance Score')\n",
    "plt.ylabel('Features')\n",
    "plt.show()"
   ]
  },
  {
   "cell_type": "markdown",
   "metadata": {},
   "source": [
    "XGBoost Method"
   ]
  },
  {
   "cell_type": "code",
   "execution_count": 10,
   "metadata": {},
   "outputs": [
    {
     "name": "stdout",
     "output_type": "stream",
     "text": [
      "Best parameters: {'subsample': 0.5, 'reg_lambda': 0.1, 'reg_alpha': 0.1, 'n_estimators': 1000, 'min_child_weight': 3, 'max_depth': 10, 'learning_rate': 0.01, 'gamma': 0, 'colsample_bytree': 0.3}\n",
      "Evaluation score: 0.42943106590479185\n"
     ]
    }
   ],
   "source": [
    "dtrain = xgb.XGBClassifier(objective='multi:softprob', num_class=3)\n",
    "\n",
    "randomized_param_grid = {\n",
    "    'learning_rate': [0.01, 0.05, 0.1, 0.2, 0.3],\n",
    "    'n_estimators': [50, 100, 200, 300, 500, 800, 1000],\n",
    "    'max_depth': [3, 4, 5, 6, 7, 8, 9, 10],\n",
    "    'min_child_weight': [1, 2, 3, 4, 5, 6, 7, 8, 9, 10],\n",
    "    'subsample': [0.5, 0.6, 0.7, 0.8, 0.9, 1.0],\n",
    "    'colsample_bytree': [0.3, 0.4, 0.5, 0.6, 0.7, 0.8, 0.9, 1.0],\n",
    "    'gamma': [0, 0.1, 0.2, 0.3, 0.4, 0.5, 1, 2, 5],\n",
    "    'reg_alpha': [0, 0.1, 0.5, 1],\n",
    "    'reg_lambda': [0.1, 1, 5, 10]\n",
    "    }\n",
    "\n",
    "random_search = RandomizedSearchCV(estimator=dtrain,\n",
    "                                   param_distributions=randomized_param_grid,\n",
    "                                   n_iter=100, cv=5, random_state=42, n_jobs=-1,\n",
    "                                   scoring=custom_scorer)\n",
    "random_search.fit(X_train, Y_train)\n",
    "prediction = random_search.predict_proba(X_test)\n",
    "booster_params = random_search.best_params_\n",
    "print(f'Best parameters: {booster_params}')\n",
    "print(f'Evaluation score: {evaluation_function(Y_test, prediction)}')"
   ]
  },
  {
   "cell_type": "code",
   "execution_count": 11,
   "metadata": {},
   "outputs": [],
   "source": [
    "params = grid_search.best_params_\n",
    "model = xgb.XGBClassifier(objective='multi:softprob', num_class=3,\n",
    "                          **booster_params)\n",
    "model.fit(X, Y)\n",
    "\n",
    "prediction = model.predict_proba(X_val)\n",
    "submission = pd.DataFrame(data={'id': ids, 'Status_C': prediction[:, 0], 'Status_CL': prediction[:, 2], 'Status_D': prediction[:, 1]})\n",
    "submission.to_csv('./output_data/booster_submission.csv', index=False)"
   ]
  },
  {
   "cell_type": "markdown",
   "metadata": {},
   "source": [
    "Stacked model - Tree, Booster, Regressor, SVM"
   ]
  },
  {
   "cell_type": "markdown",
   "metadata": {},
   "source": [
    "Gridsearch for Regressor"
   ]
  },
  {
   "cell_type": "code",
   "execution_count": 12,
   "metadata": {},
   "outputs": [
    {
     "name": "stdout",
     "output_type": "stream",
     "text": [
      "Best params: {'C': 0.2, 'l1_ratio': 0.1}\n",
      "Evaluation Score: 0.525243389713547\n"
     ]
    }
   ],
   "source": [
    "# C - inverse regularization strength (stronger regularization with smaller vals)\n",
    "param_grid = {'C': [0.1, 0.2, 0.4],\n",
    "              'l1_ratio': [0.05, 0.1, 0.2]\n",
    "              }\n",
    "\n",
    "model = LogisticRegression(penalty='elasticnet', solver='saga', multi_class='multinomial', max_iter=2000)\n",
    "\n",
    "# Initialize GridSearchCV\n",
    "grid_search = GridSearchCV(model, param_grid, cv=5, scoring=custom_scorer)\n",
    "\n",
    "# initialize preprocessing class for normalization and one hot encoding\n",
    "preprocess = Preprocessor(X_train)\n",
    "grid_search.fit(preprocess(X_train), Y_train)\n",
    "\n",
    "test_prediction = grid_search.predict_proba(preprocess(X_test))\n",
    "reg_params = grid_search.best_params_\n",
    "print(f'Best params: {reg_params}')\n",
    "print(f'Evaluation Score: {evaluation_function(Y_test, test_prediction)}')"
   ]
  },
  {
   "cell_type": "markdown",
   "metadata": {},
   "source": [
    "Best params: {'C': 0.2, 'class_weight': None, 'l1_ratio': 0.1}\n",
    "Evaluation Score: 0.5250496040552972"
   ]
  },
  {
   "cell_type": "markdown",
   "metadata": {},
   "source": [
    "Stack base models and train meta model"
   ]
  },
  {
   "cell_type": "code",
   "execution_count": 13,
   "metadata": {},
   "outputs": [],
   "source": [
    "def init_models():\n",
    "    randomforest = RandomForestClassifier(**randomforest_params)\n",
    "    booster = xgb.XGBClassifier(objective='multi:softprob', \n",
    "                                num_class=3, \n",
    "                                **booster_params)\n",
    "    regressor = LogisticRegression(penalty='elasticnet', solver='saga', multi_class='multinomial', max_iter=2000, **reg_params)\n",
    "    svm = SVC(probability=True, **svm_params)\n",
    "    return [randomforest, booster, regressor, svm]\n",
    "\n",
    "# define indices of models to be used in stacked model\n",
    "used_models = [0, 1, 2, 3]"
   ]
  },
  {
   "cell_type": "code",
   "execution_count": 14,
   "metadata": {},
   "outputs": [],
   "source": [
    "def get_cross_val_predictions(model, X, y, cv=5):\n",
    "    #Generates cross-validated predictions for a given model\n",
    "    return cross_val_predict(model, X, y, cv=cv, method='predict_proba')"
   ]
  },
  {
   "cell_type": "code",
   "execution_count": 22,
   "metadata": {},
   "outputs": [],
   "source": [
    "base_models = init_models()\n",
    "\n",
    "# to avoid overfitting, the meta-features must be created with cross validated predictions whether than predictions on training set\n",
    "X_meta_train = []\n",
    "for i in used_models:\n",
    "    if i >= 2:\n",
    "        X_meta_train.append(get_cross_val_predictions(base_models[i], preprocess(X_train), Y_train))\n",
    "    else:\n",
    "        X_meta_train.append(get_cross_val_predictions(base_models[i], X_train, Y_train))\n",
    "\n",
    "X_meta_train = np.column_stack(X_meta_train)\n",
    "\n",
    "preprocess = Preprocessor(X_train)\n",
    "# in cross-val predictions, base models are trained on part of the training data\n",
    "# Here base models are trained on whole training data\n",
    "for i in used_models:\n",
    "    if i >= 2:\n",
    "        base_models[i].fit(preprocess(X_train), Y_train)\n",
    "    else:\n",
    "        base_models[i].fit(X_train, Y_train)"
   ]
  },
  {
   "cell_type": "markdown",
   "metadata": {},
   "source": [
    "Hyperparameter tuning for meta model"
   ]
  },
  {
   "cell_type": "code",
   "execution_count": 23,
   "metadata": {},
   "outputs": [
    {
     "name": "stdout",
     "output_type": "stream",
     "text": [
      "Best params: {'alpha': 0, 'hidden_layer_sizes': 100, 'learning_rate_init': 0.001}\n",
      "Evaluation score: 0.43226792444166545\n"
     ]
    }
   ],
   "source": [
    "meta_params = {'hidden_layer_sizes': [(100)],\n",
    "               'learning_rate_init': [0.001, 0.005],\n",
    "               'alpha': [0, 0.00005, 0.0001, 0.001]\n",
    "               }\n",
    "\n",
    "mlp = MLPClassifier(max_iter=700)\n",
    "grid_search = GridSearchCV(mlp, param_grid=meta_params, scoring=custom_scorer, cv=5)\n",
    "grid_search.fit(X_meta_train, Y_train)\n",
    "mlp_params = grid_search.best_params_\n",
    "\n",
    "X_meta_test = []\n",
    "for i in used_models:\n",
    "    if i >= 2:\n",
    "        X_meta_test.append(base_models[i].predict_proba(preprocess(X_test)))\n",
    "    else:\n",
    "        X_meta_test.append(base_models[i].predict_proba(X_test))\n",
    "\n",
    "X_meta_test = np.column_stack(X_meta_test)\n",
    "probabilities = grid_search.predict_proba(X_meta_test)\n",
    "\n",
    "print(f'Best params: {mlp_params}')\n",
    "print(f'Evaluation score: {evaluation_function(Y_test, probabilities)}')"
   ]
  },
  {
   "cell_type": "markdown",
   "metadata": {},
   "source": [
    "Train MLPs on different init-weights"
   ]
  },
  {
   "cell_type": "code",
   "execution_count": 24,
   "metadata": {},
   "outputs": [
    {
     "name": "stdout",
     "output_type": "stream",
     "text": [
      "0.4276707752496222\n"
     ]
    }
   ],
   "source": [
    "mlps = [MLPClassifier(max_iter=700, **mlp_params, random_state=_) for _ in range(100)]\n",
    "scores = []\n",
    "for classifier in mlps:\n",
    "    classifier.fit(X_meta_train, Y_train)\n",
    "    scores.append(evaluation_function(Y_test, classifier.predict_proba(X_meta_test)))\n",
    "    \n",
    "best_model_index = np.argmin(scores)\n",
    "print(scores[best_model_index])"
   ]
  },
  {
   "cell_type": "markdown",
   "metadata": {},
   "source": [
    "Train Meta model on whole dataset"
   ]
  },
  {
   "cell_type": "code",
   "execution_count": 25,
   "metadata": {},
   "outputs": [],
   "source": [
    "base_models = init_models()\n",
    "\n",
    "preprocess = Preprocessor(X)\n",
    "\n",
    "X_meta = []\n",
    "X_meta_val = []\n",
    "for i in used_models:\n",
    "    if i >= 2:\n",
    "        X_meta.append(get_cross_val_predictions(base_models[i], preprocess(X), Y))\n",
    "        base_models[i].fit(preprocess(X), Y)\n",
    "        X_meta_val.append(base_models[i].predict_proba(preprocess(X_val)))\n",
    "    else:\n",
    "        X_meta.append(get_cross_val_predictions(base_models[i], X, Y))\n",
    "        base_models[i].fit(X, Y)\n",
    "        X_meta_val.append(base_models[i].predict_proba(X_val))\n",
    "\n",
    "X_meta = np.column_stack(X_meta)\n",
    "X_meta_val = np.column_stack(X_meta_val)\n",
    "\n",
    "mlp = MLPClassifier(max_iter=700, **mlp_params, random_state=best_model_index)\n",
    "mlp.fit(X_meta, Y)\n",
    "\n",
    "prediction = mlp.predict_proba(X_meta_val)\n",
    "submission = pd.DataFrame(data={'id': ids, 'Status_C': prediction[:, 0], 'Status_CL': prediction[:, 2], 'Status_D': prediction[:, 1]})\n",
    "submission.to_csv('./output_data/stacked_submission.csv', index=False)"
   ]
  },
  {
   "cell_type": "markdown",
   "metadata": {},
   "source": [
    "Kaggle end score: 0.39668"
   ]
  }
 ],
 "metadata": {
  "kernelspec": {
   "display_name": "Zeugs",
   "language": "python",
   "name": "python3"
  },
  "language_info": {
   "codemirror_mode": {
    "name": "ipython",
    "version": 3
   },
   "file_extension": ".py",
   "mimetype": "text/x-python",
   "name": "python",
   "nbconvert_exporter": "python",
   "pygments_lexer": "ipython3",
   "version": "3.9.13"
  },
  "orig_nbformat": 4
 },
 "nbformat": 4,
 "nbformat_minor": 2
}
